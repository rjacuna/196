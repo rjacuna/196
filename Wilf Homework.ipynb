{
 "cells": [
  {
   "cell_type": "markdown",
   "metadata": {},
   "source": [
    "# Wilf"
   ]
  },
  {
   "cell_type": "markdown",
   "metadata": {},
   "source": [
    "# 1\n",
    "(a) $a_n = n$"
   ]
  },
  {
   "cell_type": "markdown",
   "metadata": {},
   "source": [
    "$a_n = n \\implies f(x) = \\sum_{n=0}^\\infty a_n x^n = \\sum_{n=0}^\\infty n x^n$"
   ]
  },
  {
   "cell_type": "markdown",
   "metadata": {},
   "source": [
    "Notice $g(x) = \\frac{1}{1-x} = \\sum x^n $"
   ]
  },
  {
   "cell_type": "markdown",
   "metadata": {},
   "source": [
    "$\\implies g'(x) = \\frac{1}{(1-x)^2} =\\sum_{n=1}^\\infty n x^{n-1} \\implies f(x) = x\\sum_{n=1}^\\infty nx^{n-1} = \\sum_{n=1}^\\infty nx^n =  xg'(x) = \\frac{x}{(1-x)^2}$"
   ]
  },
  {
   "cell_type": "code",
   "execution_count": 380,
   "metadata": {},
   "outputs": [
    {
     "data": {
      "text/plain": [
       "x |--> x/(x - 1)^2"
      ]
     },
     "execution_count": 380,
     "metadata": {},
     "output_type": "execute_result"
    }
   ],
   "source": [
    "var('x')\n",
    "f_a(x) = x*(1/(1-x)).derivative(x);f_a"
   ]
  },
  {
   "cell_type": "code",
   "execution_count": 379,
   "metadata": {},
   "outputs": [],
   "source": [
    "def first_n (f,n):\n",
    "    return [(f.derivative(x,k)/factorial(k))(0) for k in range(n)]"
   ]
  },
  {
   "cell_type": "code",
   "execution_count": 381,
   "metadata": {},
   "outputs": [
    {
     "data": {
      "text/plain": [
       "[0, 1, 2, 3, 4, 5, 6, 7, 8, 9]"
      ]
     },
     "execution_count": 381,
     "metadata": {},
     "output_type": "execute_result"
    }
   ],
   "source": [
    "first_n (f_a,10)"
   ]
  },
  {
   "cell_type": "markdown",
   "metadata": {},
   "source": [
    "(b) $a_n = αn + β$"
   ]
  },
  {
   "cell_type": "markdown",
   "metadata": {},
   "source": [
    "$\\sum a_n = \\sum (\\alpha n + \\beta)x^n$\n",
    "\n",
    "$f(x) = \\sum a_n = \\alpha \\sum nx^n + \\beta \\sum x^n = \\alpha \\frac{x}{(1-x)^2} +\\beta \\frac{1}{1-x}$\n",
    "\n",
    "$f(x) = \\frac{\\alpha x+\\beta(1-x)}{(1-x)^2}$"
   ]
  },
  {
   "cell_type": "markdown",
   "metadata": {},
   "source": [
    "Put $\\alpha = 1,\\beta = 11$, then\n",
    "\n",
    "$f(x) = \\frac{x+11(1-x)}{(1-x)^2}$"
   ]
  },
  {
   "cell_type": "code",
   "execution_count": 204,
   "metadata": {},
   "outputs": [
    {
     "data": {
      "text/plain": [
       "[11, 12, 13, 14, 15, 16, 17, 18, 19, 20]"
      ]
     },
     "execution_count": 204,
     "metadata": {},
     "output_type": "execute_result"
    }
   ],
   "source": [
    "[1*n + 11 for n in range(10)]"
   ]
  },
  {
   "cell_type": "code",
   "execution_count": 382,
   "metadata": {},
   "outputs": [
    {
     "data": {
      "text/plain": [
       "11"
      ]
     },
     "execution_count": 382,
     "metadata": {},
     "output_type": "execute_result"
    }
   ],
   "source": [
    "f_b(x) = x/(1-x)^2 + 11/(1-x);f_b(0)"
   ]
  },
  {
   "cell_type": "code",
   "execution_count": 383,
   "metadata": {},
   "outputs": [
    {
     "data": {
      "text/plain": [
       "[11, 12, 13, 14, 15, 16, 17, 18, 19, 20]"
      ]
     },
     "execution_count": 383,
     "metadata": {},
     "output_type": "execute_result"
    }
   ],
   "source": [
    "first_n(f_b,10)"
   ]
  },
  {
   "cell_type": "markdown",
   "metadata": {},
   "source": [
    "(c) $a_n = n^2$"
   ]
  },
  {
   "cell_type": "markdown",
   "metadata": {},
   "source": [
    "$\\sum a_n = \\sum n^2 x^n = Li_{-2}(x) = \\frac{x(1+x)}{(1-x)^3}$ by wikipedia"
   ]
  },
  {
   "cell_type": "code",
   "execution_count": 300,
   "metadata": {},
   "outputs": [
    {
     "data": {
      "text/plain": [
       "[0, 1, 4, 9, 16, 25, 36, 49, 64, 81]"
      ]
     },
     "execution_count": 300,
     "metadata": {},
     "output_type": "execute_result"
    }
   ],
   "source": [
    "[n^2 for n in range(10)]"
   ]
  },
  {
   "cell_type": "code",
   "execution_count": 384,
   "metadata": {},
   "outputs": [
    {
     "data": {
      "text/plain": [
       "[0, 1, 4, 9, 16, 25, 36, 49, 64, 81]"
      ]
     },
     "execution_count": 384,
     "metadata": {},
     "output_type": "execute_result"
    }
   ],
   "source": [
    "f_c(x) = (x*(1+x))/((1-1*x)^3)\n",
    "first_n(f_c,10)"
   ]
  },
  {
   "cell_type": "markdown",
   "metadata": {},
   "source": [
    "(d) $a_n = \\alpha n^2 +\\beta n + \\gamma$\n",
    "\n",
    "By observation $f(x) = \\alpha Li_{-2}(x) +\\beta Li_{-1}(x) + \\gamma Li_0(x) =  \\alpha \\frac{x(1+x)}{(1-x)^3} + \\beta \\frac{x}{(1-x)^2} +\\gamma  \\frac{x(1+x)}{1-x}$"
   ]
  },
  {
   "cell_type": "markdown",
   "metadata": {},
   "source": [
    "Put $\\alpha = 3,\\beta = 2, \\gamma = 5$, then\n",
    "\n",
    "$f(x) = 3 \\frac{x(1+x)}{(1-x)^3} + 2 \\frac{x}{(1-x)^2} +5  \\frac{x(1+x)}{1-x}$"
   ]
  },
  {
   "cell_type": "code",
   "execution_count": 302,
   "metadata": {},
   "outputs": [
    {
     "data": {
      "text/plain": [
       "[5, 10, 21, 38, 61, 90, 125, 166, 213, 266]"
      ]
     },
     "execution_count": 302,
     "metadata": {},
     "output_type": "execute_result"
    }
   ],
   "source": [
    "[3*n^2+2*n +5 for n in range(10)]"
   ]
  },
  {
   "cell_type": "code",
   "execution_count": 387,
   "metadata": {},
   "outputs": [],
   "source": [
    "f_d(x) = 3*x*(1+x)/((1-x)^3) + 2*x/((1-x)^2) +5/(1-x)"
   ]
  },
  {
   "cell_type": "code",
   "execution_count": 388,
   "metadata": {},
   "outputs": [
    {
     "data": {
      "text/plain": [
       "[5, 10, 21, 38, 61, 90, 125, 166, 213, 266]"
      ]
     },
     "execution_count": 388,
     "metadata": {},
     "output_type": "execute_result"
    }
   ],
   "source": [
    "first_n(f_d,10)"
   ]
  },
  {
   "cell_type": "markdown",
   "metadata": {},
   "source": [
    "(e) $a_n = P(n)$, where $P$ is a given polynomial, of degre $m$\n",
    "\n",
    "\n",
    "If $P(n) = \\sum_{k=0}^m b_k n^k$, then $f(x) = \\frac{b_0}{1-x} + \\sum_{k=1}^m b_k Li_{-k}(x)= b_0\\frac{Li_0(x)}{x} + \\sum_{k=1}^m b_k Li_{-k}(x)$\n",
    "\n",
    "Note the constant term needs to be treated differently. \n",
    "\n",
    "Since $Li_0(x) = \\frac{x}{1-x}$, so $Li_0(0) = 0$, thus the constant term is not taken into account as the first coefficient of the expansion."
   ]
  },
  {
   "cell_type": "markdown",
   "metadata": {},
   "source": [
    "Let $P(n) = 7n^{4}+19n^3 +23$"
   ]
  },
  {
   "cell_type": "code",
   "execution_count": 305,
   "metadata": {},
   "outputs": [
    {
     "data": {
      "text/plain": [
       "[23,\n",
       " 50,\n",
       " 1969,\n",
       " 46466,\n",
       " 459995,\n",
       " 2736778,\n",
       " 11761445,\n",
       " 40360154,\n",
       " 117450271,\n",
       " 301340930]"
      ]
     },
     "execution_count": 305,
     "metadata": {},
     "output_type": "execute_result"
    }
   ],
   "source": [
    "[7*n^8+19*n^3 + n +23 for n in range(10)]"
   ]
  },
  {
   "cell_type": "code",
   "execution_count": 344,
   "metadata": {},
   "outputs": [],
   "source": [
    "def Li_n (n,z):\n",
    "    if n > 0:\n",
    "        return polylog(n,z)\n",
    "    else:\n",
    "        f = z/(1-z)\n",
    "        for k in range(-n):\n",
    "            f = z*f.derivative(z,1)\n",
    "        return f"
   ]
  },
  {
   "cell_type": "code",
   "execution_count": 389,
   "metadata": {},
   "outputs": [
    {
     "data": {
      "text/plain": [
       "23"
      ]
     },
     "execution_count": 389,
     "metadata": {},
     "output_type": "execute_result"
    }
   ],
   "source": [
    "f_e(x) = 7*Li_n(-8,x) +19*Li_n(-3,x)+Li_n(-1,x) +23/(1-x);f_e(0)"
   ]
  },
  {
   "cell_type": "code",
   "execution_count": 390,
   "metadata": {},
   "outputs": [
    {
     "data": {
      "text/plain": [
       "[23,\n",
       " 50,\n",
       " 1969,\n",
       " 46466,\n",
       " 459995,\n",
       " 2736778,\n",
       " 11761445,\n",
       " 40360154,\n",
       " 117450271,\n",
       " 301340930]"
      ]
     },
     "execution_count": 390,
     "metadata": {},
     "output_type": "execute_result"
    }
   ],
   "source": [
    "first_n_app(f_e,10)"
   ]
  },
  {
   "cell_type": "markdown",
   "metadata": {},
   "source": [
    "(f) $a_n = 3^n$\n",
    "\n",
    "$\\implies f(x) = \\sum_{n=0}^\\infty 3^nx^n = \\sum_{n=0}^\\infty (3x)^n = \\frac{1}{1-3x}$"
   ]
  },
  {
   "cell_type": "code",
   "execution_count": 356,
   "metadata": {},
   "outputs": [
    {
     "data": {
      "text/plain": [
       "[1, 3, 9, 27, 81, 243, 729, 2187, 6561, 19683]"
      ]
     },
     "execution_count": 356,
     "metadata": {},
     "output_type": "execute_result"
    }
   ],
   "source": [
    "[3^n  for n in range(10)]"
   ]
  },
  {
   "cell_type": "code",
   "execution_count": 391,
   "metadata": {},
   "outputs": [],
   "source": [
    "f_f(x) = 1/(1-3*x)"
   ]
  },
  {
   "cell_type": "code",
   "execution_count": 392,
   "metadata": {},
   "outputs": [
    {
     "data": {
      "text/plain": [
       "[1, 3, 9, 27, 81, 243, 729, 2187, 6561, 19683]"
      ]
     },
     "execution_count": 392,
     "metadata": {},
     "output_type": "execute_result"
    }
   ],
   "source": [
    "first_n(f_f,10)"
   ]
  },
  {
   "cell_type": "markdown",
   "metadata": {},
   "source": [
    "(g) $a_n = 5\\cdot 7^n-3\\cdot 4^n$\n",
    "\n",
    "$\\implies f(x) = \\frac{5}{1-7x}-\\frac{3}{1-4x}$"
   ]
  },
  {
   "cell_type": "code",
   "execution_count": 359,
   "metadata": {},
   "outputs": [
    {
     "data": {
      "text/plain": [
       "[2, 23, 197, 1523, 11237, 80963, 575957, 4068563, 28627397, 200981603]"
      ]
     },
     "execution_count": 359,
     "metadata": {},
     "output_type": "execute_result"
    }
   ],
   "source": [
    "[5*7^n -3*4^n for n in range(10)]"
   ]
  },
  {
   "cell_type": "code",
   "execution_count": 393,
   "metadata": {},
   "outputs": [],
   "source": [
    "f_g(x) = 5/(1-7*x) -3/(1-4*x)"
   ]
  },
  {
   "cell_type": "code",
   "execution_count": 395,
   "metadata": {},
   "outputs": [
    {
     "data": {
      "text/plain": [
       "[2, 23, 197, 1523, 11237, 80963, 575957, 4068563, 28627397, 200981603]"
      ]
     },
     "execution_count": 395,
     "metadata": {},
     "output_type": "execute_result"
    }
   ],
   "source": [
    "first_n(f_g,10)"
   ]
  }
 ],
 "metadata": {
  "kernelspec": {
   "display_name": "SageMath 8.9",
   "language": "sage",
   "name": "sagemath"
  },
  "language_info": {
   "codemirror_mode": {
    "name": "ipython",
    "version": 2
   },
   "file_extension": ".py",
   "mimetype": "text/x-python",
   "name": "python",
   "nbconvert_exporter": "python",
   "pygments_lexer": "ipython2",
   "version": "2.7.15"
  }
 },
 "nbformat": 4,
 "nbformat_minor": 2
}
